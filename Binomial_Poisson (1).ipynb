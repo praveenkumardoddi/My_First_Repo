{
 "cells": [
  {
   "cell_type": "markdown",
   "metadata": {
    "id": "EuKnG1H-HEU8"
   },
   "source": [
    "## Imported Libraries"
   ]
  },
  {
   "cell_type": "code",
   "execution_count": 2,
   "metadata": {
    "id": "whKg2KyRGzJN"
   },
   "outputs": [],
   "source": [
    "df = pd.read_csv(\"PEA01.20231009T211012.csv\")"
   ]
  },
  {
   "cell_type": "code",
   "execution_count": 1,
   "metadata": {
    "id": "ReWAbv0lGLZU"
   },
   "outputs": [],
   "source": [
    "import pandas as pd\n",
    "import numpy as np"
   ]
  },
  {
   "cell_type": "code",
   "execution_count": 3,
   "metadata": {
    "colab": {
     "base_uri": "https://localhost:8080/",
     "height": 206
    },
    "id": "7F-Bg01gG3RU",
    "outputId": "3f0e1612-9202-44f3-c63b-59642be68896"
   },
   "outputs": [
    {
     "data": {
      "text/html": [
       "<div>\n",
       "<style scoped>\n",
       "    .dataframe tbody tr th:only-of-type {\n",
       "        vertical-align: middle;\n",
       "    }\n",
       "\n",
       "    .dataframe tbody tr th {\n",
       "        vertical-align: top;\n",
       "    }\n",
       "\n",
       "    .dataframe thead th {\n",
       "        text-align: right;\n",
       "    }\n",
       "</style>\n",
       "<table border=\"1\" class=\"dataframe\">\n",
       "  <thead>\n",
       "    <tr style=\"text-align: right;\">\n",
       "      <th></th>\n",
       "      <th>STATISTIC Label</th>\n",
       "      <th>Year</th>\n",
       "      <th>Age Group</th>\n",
       "      <th>Sex</th>\n",
       "      <th>UNIT</th>\n",
       "      <th>VALUE</th>\n",
       "    </tr>\n",
       "  </thead>\n",
       "  <tbody>\n",
       "    <tr>\n",
       "      <th>0</th>\n",
       "      <td>Population Estimates (Persons in April)</td>\n",
       "      <td>1950</td>\n",
       "      <td>Under 1 year</td>\n",
       "      <td>Both sexes</td>\n",
       "      <td>Thousand</td>\n",
       "      <td>61.1</td>\n",
       "    </tr>\n",
       "    <tr>\n",
       "      <th>1</th>\n",
       "      <td>Population Estimates (Persons in April)</td>\n",
       "      <td>1950</td>\n",
       "      <td>Under 1 year</td>\n",
       "      <td>Male</td>\n",
       "      <td>Thousand</td>\n",
       "      <td>31.4</td>\n",
       "    </tr>\n",
       "    <tr>\n",
       "      <th>2</th>\n",
       "      <td>Population Estimates (Persons in April)</td>\n",
       "      <td>1950</td>\n",
       "      <td>Under 1 year</td>\n",
       "      <td>Female</td>\n",
       "      <td>Thousand</td>\n",
       "      <td>29.7</td>\n",
       "    </tr>\n",
       "    <tr>\n",
       "      <th>3</th>\n",
       "      <td>Population Estimates (Persons in April)</td>\n",
       "      <td>1950</td>\n",
       "      <td>0 - 4 years</td>\n",
       "      <td>Both sexes</td>\n",
       "      <td>Thousand</td>\n",
       "      <td>NaN</td>\n",
       "    </tr>\n",
       "    <tr>\n",
       "      <th>4</th>\n",
       "      <td>Population Estimates (Persons in April)</td>\n",
       "      <td>1950</td>\n",
       "      <td>0 - 4 years</td>\n",
       "      <td>Male</td>\n",
       "      <td>Thousand</td>\n",
       "      <td>NaN</td>\n",
       "    </tr>\n",
       "  </tbody>\n",
       "</table>\n",
       "</div>"
      ],
      "text/plain": [
       "                           STATISTIC Label  Year     Age Group         Sex  \\\n",
       "0  Population Estimates (Persons in April)  1950  Under 1 year  Both sexes   \n",
       "1  Population Estimates (Persons in April)  1950  Under 1 year        Male   \n",
       "2  Population Estimates (Persons in April)  1950  Under 1 year      Female   \n",
       "3  Population Estimates (Persons in April)  1950   0 - 4 years  Both sexes   \n",
       "4  Population Estimates (Persons in April)  1950   0 - 4 years        Male   \n",
       "\n",
       "       UNIT  VALUE  \n",
       "0  Thousand   61.1  \n",
       "1  Thousand   31.4  \n",
       "2  Thousand   29.7  \n",
       "3  Thousand    NaN  \n",
       "4  Thousand    NaN  "
      ]
     },
     "execution_count": 3,
     "metadata": {},
     "output_type": "execute_result"
    }
   ],
   "source": [
    "df.head()"
   ]
  },
  {
   "cell_type": "code",
   "execution_count": 4,
   "metadata": {
    "colab": {
     "base_uri": "https://localhost:8080/"
    },
    "id": "uJhD9ZBEG5Fx",
    "outputId": "00dae7a7-af2e-4d31-c144-487cf1ae4efc"
   },
   "outputs": [
    {
     "data": {
      "text/plain": [
       "Index(['STATISTIC Label', 'Year', 'Age Group', 'Sex', 'UNIT', 'VALUE'], dtype='object')"
      ]
     },
     "execution_count": 4,
     "metadata": {},
     "output_type": "execute_result"
    }
   ],
   "source": [
    "df.columns"
   ]
  },
  {
   "cell_type": "code",
   "execution_count": 5,
   "metadata": {
    "colab": {
     "base_uri": "https://localhost:8080/"
    },
    "id": "qB1o5VtyG8pO",
    "outputId": "95279a1c-6656-47ce-9cc1-45882f4422e7"
   },
   "outputs": [
    {
     "data": {
      "text/plain": [
       "(5994, 6)"
      ]
     },
     "execution_count": 5,
     "metadata": {},
     "output_type": "execute_result"
    }
   ],
   "source": [
    "df.shape"
   ]
  },
  {
   "cell_type": "code",
   "execution_count": 6,
   "metadata": {
    "colab": {
     "base_uri": "https://localhost:8080/"
    },
    "id": "dUnw9i5YG-sJ",
    "outputId": "aeb993b4-74ef-4c66-cc19-994b3fe22cef"
   },
   "outputs": [
    {
     "name": "stdout",
     "output_type": "stream",
     "text": [
      "<class 'pandas.core.frame.DataFrame'>\n",
      "RangeIndex: 5994 entries, 0 to 5993\n",
      "Data columns (total 6 columns):\n",
      " #   Column           Non-Null Count  Dtype  \n",
      "---  ------           --------------  -----  \n",
      " 0   STATISTIC Label  5994 non-null   object \n",
      " 1   Year             5994 non-null   int64  \n",
      " 2   Age Group        5994 non-null   object \n",
      " 3   Sex              5994 non-null   object \n",
      " 4   UNIT             5994 non-null   object \n",
      " 5   VALUE            5880 non-null   float64\n",
      "dtypes: float64(1), int64(1), object(4)\n",
      "memory usage: 281.1+ KB\n"
     ]
    }
   ],
   "source": [
    "df.info()"
   ]
  },
  {
   "cell_type": "code",
   "execution_count": 7,
   "metadata": {
    "colab": {
     "base_uri": "https://localhost:8080/",
     "height": 423
    },
    "id": "zKY_40nUJ2_Z",
    "outputId": "890c981d-70a3-45db-d6bb-7104294189fc"
   },
   "outputs": [
    {
     "data": {
      "text/html": [
       "<div>\n",
       "<style scoped>\n",
       "    .dataframe tbody tr th:only-of-type {\n",
       "        vertical-align: middle;\n",
       "    }\n",
       "\n",
       "    .dataframe tbody tr th {\n",
       "        vertical-align: top;\n",
       "    }\n",
       "\n",
       "    .dataframe thead th {\n",
       "        text-align: right;\n",
       "    }\n",
       "</style>\n",
       "<table border=\"1\" class=\"dataframe\">\n",
       "  <thead>\n",
       "    <tr style=\"text-align: right;\">\n",
       "      <th></th>\n",
       "      <th>STATISTIC Label</th>\n",
       "      <th>Year</th>\n",
       "      <th>Age Group</th>\n",
       "      <th>Sex</th>\n",
       "      <th>UNIT</th>\n",
       "      <th>VALUE</th>\n",
       "    </tr>\n",
       "  </thead>\n",
       "  <tbody>\n",
       "    <tr>\n",
       "      <th>0</th>\n",
       "      <td>False</td>\n",
       "      <td>False</td>\n",
       "      <td>False</td>\n",
       "      <td>False</td>\n",
       "      <td>False</td>\n",
       "      <td>False</td>\n",
       "    </tr>\n",
       "    <tr>\n",
       "      <th>1</th>\n",
       "      <td>False</td>\n",
       "      <td>False</td>\n",
       "      <td>False</td>\n",
       "      <td>False</td>\n",
       "      <td>False</td>\n",
       "      <td>False</td>\n",
       "    </tr>\n",
       "    <tr>\n",
       "      <th>2</th>\n",
       "      <td>False</td>\n",
       "      <td>False</td>\n",
       "      <td>False</td>\n",
       "      <td>False</td>\n",
       "      <td>False</td>\n",
       "      <td>False</td>\n",
       "    </tr>\n",
       "    <tr>\n",
       "      <th>3</th>\n",
       "      <td>False</td>\n",
       "      <td>False</td>\n",
       "      <td>False</td>\n",
       "      <td>False</td>\n",
       "      <td>False</td>\n",
       "      <td>True</td>\n",
       "    </tr>\n",
       "    <tr>\n",
       "      <th>4</th>\n",
       "      <td>False</td>\n",
       "      <td>False</td>\n",
       "      <td>False</td>\n",
       "      <td>False</td>\n",
       "      <td>False</td>\n",
       "      <td>True</td>\n",
       "    </tr>\n",
       "    <tr>\n",
       "      <th>...</th>\n",
       "      <td>...</td>\n",
       "      <td>...</td>\n",
       "      <td>...</td>\n",
       "      <td>...</td>\n",
       "      <td>...</td>\n",
       "      <td>...</td>\n",
       "    </tr>\n",
       "    <tr>\n",
       "      <th>5989</th>\n",
       "      <td>False</td>\n",
       "      <td>False</td>\n",
       "      <td>False</td>\n",
       "      <td>False</td>\n",
       "      <td>False</td>\n",
       "      <td>False</td>\n",
       "    </tr>\n",
       "    <tr>\n",
       "      <th>5990</th>\n",
       "      <td>False</td>\n",
       "      <td>False</td>\n",
       "      <td>False</td>\n",
       "      <td>False</td>\n",
       "      <td>False</td>\n",
       "      <td>False</td>\n",
       "    </tr>\n",
       "    <tr>\n",
       "      <th>5991</th>\n",
       "      <td>False</td>\n",
       "      <td>False</td>\n",
       "      <td>False</td>\n",
       "      <td>False</td>\n",
       "      <td>False</td>\n",
       "      <td>False</td>\n",
       "    </tr>\n",
       "    <tr>\n",
       "      <th>5992</th>\n",
       "      <td>False</td>\n",
       "      <td>False</td>\n",
       "      <td>False</td>\n",
       "      <td>False</td>\n",
       "      <td>False</td>\n",
       "      <td>False</td>\n",
       "    </tr>\n",
       "    <tr>\n",
       "      <th>5993</th>\n",
       "      <td>False</td>\n",
       "      <td>False</td>\n",
       "      <td>False</td>\n",
       "      <td>False</td>\n",
       "      <td>False</td>\n",
       "      <td>False</td>\n",
       "    </tr>\n",
       "  </tbody>\n",
       "</table>\n",
       "<p>5994 rows × 6 columns</p>\n",
       "</div>"
      ],
      "text/plain": [
       "      STATISTIC Label   Year  Age Group    Sex   UNIT  VALUE\n",
       "0               False  False      False  False  False  False\n",
       "1               False  False      False  False  False  False\n",
       "2               False  False      False  False  False  False\n",
       "3               False  False      False  False  False   True\n",
       "4               False  False      False  False  False   True\n",
       "...               ...    ...        ...    ...    ...    ...\n",
       "5989            False  False      False  False  False  False\n",
       "5990            False  False      False  False  False  False\n",
       "5991            False  False      False  False  False  False\n",
       "5992            False  False      False  False  False  False\n",
       "5993            False  False      False  False  False  False\n",
       "\n",
       "[5994 rows x 6 columns]"
      ]
     },
     "execution_count": 7,
     "metadata": {},
     "output_type": "execute_result"
    }
   ],
   "source": [
    "df.isnull()"
   ]
  },
  {
   "cell_type": "markdown",
   "metadata": {
    "id": "JztuPh62UVQF"
   },
   "source": [
    "### Scenario: Suppose you want to investigate whether there is an association between the \"Sex\" column (which has two categories: male and female) and a certain event, and you want to use the Binomial distribution to model this situation."
   ]
  },
  {
   "cell_type": "markdown",
   "metadata": {
    "id": "DpYqn_PJUuVg"
   },
   "source": [
    "Hypothesis:\n",
    "You hypothesize that there is a 20% chance that a person of a certain sex (e.g., male) will experience the event in a given year.\n",
    "\n",
    "Steps to Analyze with Binomial Distribution:\n",
    "\n",
    "Calculate the probability of success (p) for the Binomial distribution based on your hypothesis (e.g., p = 0.20).\n",
    "Define the number of trials (n) as the total number of rows in your dataset (5994).\n",
    "Use the Binomial distribution to calculate the probability mass function (PMF) for each value of k (number of successes) in the range from 0 to n. You can use the scipy.stats.binom.pmf function for this."
   ]
  },
  {
   "cell_type": "code",
   "execution_count": 9,
   "metadata": {
    "colab": {
     "base_uri": "https://localhost:8080/",
     "height": 472
    },
    "id": "EMdmfhQXUIW3",
    "outputId": "b68dec66-0980-47fc-a58c-94e4f3e80fa7"
   },
   "outputs": [
    {
     "data": {
      "image/png": "[encoded data removed]",
      "text/plain": [
       "<Figure size 640x480 with 1 Axes>"
      ]
     },
     "metadata": {},
     "output_type": "display_data"
    }
   ],
   "source": [
    "import numpy as np\n",
    "import matplotlib.pyplot as plt\n",
    "from scipy.stats import binom\n",
    "\n",
    "# Hypothesis\n",
    "p = 0.20\n",
    "\n",
    "# Total number of trials (rows in the dataset)\n",
    "n = 5994\n",
    "\n",
    "# Calculate PMF for each value of k (0 to n)\n",
    "k_values = np.arange(0, n+1)\n",
    "pmf = binom.pmf(k_values, n, p)\n",
    "\n",
    "# Visualize the Binomial distribution\n",
    "plt.bar(k_values, pmf)\n",
    "plt.xlabel('Number of Successes (k)')\n",
    "plt.ylabel('Probability')\n",
    "plt.title('Binomial Distribution')\n",
    "plt.show()\n"
   ]
  },
  {
   "cell_type": "markdown",
   "metadata": {
    "id": "gCcTJpyyU2Dd"
   },
   "source": [
    "Steps to Analyze with Poisson Distribution:\n",
    "\n",
    "Calculate the event rate (λ) as the average number of events per year. You can calculate this based on the dataset.\n",
    "Use the Poisson distribution to calculate the PMF for each value of k (number of events) in a given year. You can use the scipy.stats.poisson.pmf function for this.\n",
    "Here's some Python code to perform this analysis:"
   ]
  },
  {
   "cell_type": "code",
   "execution_count": 10,
   "metadata": {
    "colab": {
     "base_uri": "https://localhost:8080/",
     "height": 472
    },
    "id": "NmOSaKUQUO_M",
    "outputId": "8ee71ee0-99cf-4f47-f84d-6af021a9f071"
   },
   "outputs": [
    {
     "data": {
      "image/png": "[encoded data removed]",
      "text/plain": [
       "<Figure size 640x480 with 1 Axes>"
      ]
     },
     "metadata": {},
     "output_type": "display_data"
    }
   ],
   "source": [
    "from scipy.stats import poisson\n",
    "\n",
    "# Calculate the event rate (λ) based on your dataset\n",
    "event_rate = df['VALUE'].mean()\n",
    "\n",
    "# Define a range for k values (e.g., 0 to 10 events in a year)\n",
    "k_values = np.arange(0, 11)\n",
    "\n",
    "# Calculate PMF for each value of k\n",
    "pmf = poisson.pmf(k_values, event_rate)\n",
    "\n",
    "# Visualize the Poisson distribution\n",
    "plt.bar(k_values, pmf)\n",
    "plt.xlabel('Number of Events (k)')\n",
    "plt.ylabel('Probability')\n",
    "plt.title('Poisson Distribution')\n",
    "plt.show()\n"
   ]
  },
  {
   "cell_type": "code",
   "execution_count": 11,
   "metadata": {
    "colab": {
     "base_uri": "https://localhost:8080/"
    },
    "id": "EENDOX3iJ3B7",
    "outputId": "043bf074-d6ab-4b8c-f0e8-2e1432a07c79"
   },
   "outputs": [
    {
     "name": "stdout",
     "output_type": "stream",
     "text": [
      "count    5880.000000\n",
      "mean      347.001088\n",
      "std       601.822682\n",
      "min         5.500000\n",
      "25%        79.475000\n",
      "50%       151.700000\n",
      "75%       307.725000\n",
      "max      5281.600000\n",
      "Name: VALUE, dtype: float64\n"
     ]
    }
   ],
   "source": [
    "# Calculate basic descriptive statistics for the 'VALUE' column\n",
    "descriptive_stats = df['VALUE'].describe()\n",
    "print(descriptive_stats)"
   ]
  },
  {
   "cell_type": "code",
   "execution_count": 12,
   "metadata": {
    "colab": {
     "base_uri": "https://localhost:8080/"
    },
    "id": "xhLfOOy3VUEV",
    "outputId": "f8c4069c-1d8f-4d8e-e222-c99705df0ff5"
   },
   "outputs": [
    {
     "name": "stdout",
     "output_type": "stream",
     "text": [
      "Mean: 347.0010884353742\n",
      "Standard Deviation: 601.8226824979944\n"
     ]
    }
   ],
   "source": [
    "import pandas as pd\n",
    "\n",
    "# Assuming you have your DataFrame df\n",
    "mean_value = df['VALUE'].mean()\n",
    "std_value = df['VALUE'].std()\n",
    "\n",
    "print(f\"Mean: {mean_value}\")\n",
    "print(f\"Standard Deviation: {std_value}\")\n"
   ]
  },
  {
   "cell_type": "markdown",
   "metadata": {
    "id": "cdidrayvWHzl"
   },
   "source": [
    "Visualize the Data: Create a histogram or density plot to visualize the distribution of the \"VALUE\" column. This helps you visually assess whether the data appears to be roughly Normal or if there are deviations from Normality."
   ]
  },
  {
   "cell_type": "code",
   "execution_count": 13,
   "metadata": {
    "colab": {
     "base_uri": "https://localhost:8080/",
     "height": 472
    },
    "id": "P8fosnzzVUG8",
    "outputId": "c34c64b6-f4df-4777-f1da-136ccd9089b5"
   },
   "outputs": [
    {
     "data": {
      "image/png": "[encoded data removed]",
      "text/plain": [
       "<Figure size 640x480 with 1 Axes>"
      ]
     },
     "metadata": {},
     "output_type": "display_data"
    }
   ],
   "source": [
    "import matplotlib.pyplot as plt\n",
    "\n",
    "# Create a histogram\n",
    "plt.hist(df['VALUE'], bins=30, density=True, alpha=0.6, color='b')\n",
    "\n",
    "# Plot the Normal distribution for comparison\n",
    "from scipy.stats import norm\n",
    "x = np.linspace(df['VALUE'].min(), df['VALUE'].max(), 100)\n",
    "pdf = norm.pdf(x, loc=mean_value, scale=std_value)\n",
    "plt.plot(x, pdf, 'k-', linewidth=2)\n",
    "\n",
    "plt.xlabel('Value')\n",
    "plt.ylabel('Density')\n",
    "plt.title('Distribution of VALUE Column')\n",
    "plt.show()\n"
   ]
  },
  {
   "cell_type": "code",
   "execution_count": 14,
   "metadata": {
    "colab": {
     "base_uri": "https://localhost:8080/"
    },
    "id": "j766xMw8J3EY",
    "outputId": "f3cee3b6-e162-4cbe-dc8e-d3ee1768c43b"
   },
   "outputs": [
    {
     "name": "stdout",
     "output_type": "stream",
     "text": [
      "Correlation between Year and VALUE: 0.11000544744512805\n"
     ]
    }
   ],
   "source": [
    "# Calculate the correlation between 'Year' and 'VALUE'\n",
    "correlation = df['Year'].corr(df['VALUE'])\n",
    "print(f'Correlation between Year and VALUE: {correlation}')"
   ]
  },
  {
   "cell_type": "markdown",
   "metadata": {
    "id": "3_yUd2WpLOjc"
   },
   "source": [
    "#### Freqvency analysis"
   ]
  },
  {
   "cell_type": "code",
   "execution_count": 15,
   "metadata": {
    "colab": {
     "base_uri": "https://localhost:8080/"
    },
    "id": "D9ZnN_X7J3G7",
    "outputId": "eeab0d40-4282-47dd-a085-4d39bbb97cbb"
   },
   "outputs": [
    {
     "name": "stdout",
     "output_type": "stream",
     "text": [
      "Under 1 year         222\n",
      "40 - 44 years        222\n",
      "85 years and over    222\n",
      "80 - 84 years        222\n",
      "75 - 79 years        222\n",
      "70 - 74 years        222\n",
      "65 years and over    222\n",
      "65 - 69 years        222\n",
      "60 - 64 years        222\n",
      "55 - 59 years        222\n",
      "50 - 54 years        222\n",
      "45 - 64 years        222\n",
      "45 - 49 years        222\n",
      "35 - 39 years        222\n",
      "0 - 4 years          222\n",
      "30 - 34 years        222\n",
      "25 - 44 years        222\n",
      "25 - 29 years        222\n",
      "20 - 24 years        222\n",
      "15 years and over    222\n",
      "15 - 24 years        222\n",
      "15 - 19 years        222\n",
      "10 - 14 years        222\n",
      "5 - 9 years          222\n",
      "1 - 4 years          222\n",
      "0 - 14 years         222\n",
      "All ages             222\n",
      "Name: Age Group, dtype: int64\n"
     ]
    }
   ],
   "source": [
    "# Calculate the frequency of each unique value in the 'Age Group' column\n",
    "age_group_counts = df['Age Group'].value_counts()\n",
    "print(age_group_counts)"
   ]
  },
  {
   "cell_type": "markdown",
   "metadata": {
    "id": "XZjhMZQ0LXEb"
   },
   "source": [
    "## Statistics Test"
   ]
  },
  {
   "cell_type": "markdown",
   "metadata": {
    "id": "tjHc_8k_LfLT"
   },
   "source": [
    "### Hypothesis Testing (chi-test)"
   ]
  },
  {
   "cell_type": "code",
   "execution_count": 16,
   "metadata": {
    "colab": {
     "base_uri": "https://localhost:8080/"
    },
    "id": "CmdJwZTRL2yc",
    "outputId": "354799b6-796a-4bba-a68b-a046781b0ff3"
   },
   "outputs": [
    {
     "name": "stdout",
     "output_type": "stream",
     "text": [
      "Chi-square statistic: 0.0\n",
      "P-value: 1.0\n"
     ]
    }
   ],
   "source": [
    "from scipy.stats import chi2_contingency\n",
    "\n",
    "# Perform a chi-square test of independence between 'Age Group' and 'Sex'\n",
    "contingency_table = pd.crosstab(df['Age Group'], df['Sex'])\n",
    "chi2, p, dof, expected = chi2_contingency(contingency_table)\n",
    "print(f'Chi-square statistic: {chi2}')\n",
    "print(f'P-value: {p}')\n"
   ]
  }
 ],
 "metadata": {
  "colab": {
   "provenance": []
  },
  "kernelspec": {
   "display_name": "Python 3 (ipykernel)",
   "language": "python",
   "name": "python3"
  },
  "language_info": {
   "codemirror_mode": {
    "name": "ipython",
    "version": 3
   },
   "file_extension": ".py",
   "mimetype": "text/x-python",
   "name": "python",
   "nbconvert_exporter": "python",
   "pygments_lexer": "ipython3",
   "version": "3.11.4"
  }
 },
 "nbformat": 4,
 "nbformat_minor": 1
}
