{
 "cells": [
  {
   "cell_type": "markdown",
   "metadata": {},
   "source": [
    "## Support Vector Machine"
   ]
  },
  {
   "cell_type": "code",
   "execution_count": 45,
   "metadata": {
    "colab": {
     "base_uri": "https://localhost:8080/"
    },
    "id": "B-b9PXLtKDzS",
    "outputId": "4cbbe57e-4388-4db2-cdb4-c2eaa1c8f65c"
   },
   "outputs": [
    {
     "name": "stdout",
     "output_type": "stream",
     "text": [
      "Mean Absolute Error (MAE): 99.16514977441257\n"
     ]
    }
   ],
   "source": [
    "import pandas as pd\n",
    "from sklearn.model_selection import train_test_split\n",
    "from sklearn.svm import SVR\n",
    "from sklearn.model_selection import GridSearchCV\n",
    "from sklearn.metrics import mean_absolute_error\n",
    "\n",
    "# Load your dataset\n",
    "# Replace 'YOUR_DATASET.csv' with the actual file path\n",
    "df = pd.read_csv('PEA01.20231009T211012.csv')\n",
    "\n",
    "# Step 1: Data Preprocessing\n",
    "# Drop rows with missing values\n",
    "df.dropna(subset=['VALUE'], inplace=True)\n",
    "\n",
    "# Remove the 'UNIT' column\n",
    "df_encoded = df.drop('UNIT', axis=1)\n",
    "\n",
    "# One-Hot Encoding for other categorical columns\n",
    "df_encoded = pd.get_dummies(df_encoded, columns=['STATISTIC Label', 'Age Group', 'Sex'], drop_first=True)\n",
    "\n",
    "# Step 2: Data Splitting (80% train, 20% test)\n",
    "X = df_encoded.drop('VALUE', axis=1)  # Features\n",
    "y = df_encoded['VALUE']  # Target variable\n",
    "X_train, X_test, y_train, y_test = train_test_split(X, y, test_size=0.2, random_state=42)\n",
    "\n",
    "# Step 3: Model Selection (Support Vector Regressor)\n",
    "svr_model = SVR()\n",
    "\n",
    "# Step 4: Hyperparameter Tuning with GridSearchCV\n",
    "param_grid = {\n",
    "    'C': [0.1, 1, 10],  # Regularization parameter\n",
    "    'epsilon': [0.1, 0.2, 0.3],  # Epsilon parameter\n",
    "    'kernel': ['linear', 'rbf', 'poly']  # Kernel type\n",
    "}\n",
    "\n",
    "grid_search = GridSearchCV(estimator=svr_model, param_grid=param_grid, cv=5, scoring='neg_mean_absolute_error')\n",
    "grid_search.fit(X_train, y_train)\n",
    "\n",
    "# Get the best hyperparameters\n",
    "best_params = grid_search.best_params_\n",
    "\n",
    "# Step 5: Train the Model with Best Hyperparameters\n",
    "best_svr_model = SVR(\n",
    "    C=best_params['C'],\n",
    "    epsilon=best_params['epsilon'],\n",
    "    kernel=best_params['kernel']\n",
    ")\n",
    "\n",
    "best_svr_model.fit(X_train, y_train)\n",
    "\n",
    "# Step 6: Model Evaluation\n",
    "predictions = best_svr_model.predict(X_test)\n",
    "mae = mean_absolute_error(y_test, predictions)\n",
    "print(f'Mean Absolute Error (MAE): {mae}')\n",
    "\n",
    "# You can also further evaluate the model with other regression metrics if needed.\n"
   ]
  },
  {
   "cell_type": "code",
   "execution_count": 46,
   "metadata": {
    "id": "L-zPhlbJKD1p"
   },
   "outputs": [],
   "source": [
    "from sklearn.metrics import r2_score, mean_absolute_error, mean_squared_error\n"
   ]
  },
  {
   "cell_type": "code",
   "execution_count": 47,
   "metadata": {
    "colab": {
     "base_uri": "https://localhost:8080/"
    },
    "id": "sqWwkrcDKD9M",
    "outputId": "421f6b5a-316e-4c4a-f293-48d4e98a18c3"
   },
   "outputs": [
    {
     "name": "stdout",
     "output_type": "stream",
     "text": [
      "R-squared (R2) Score: 0.7345147664243825\n",
      "Mean Absolute Error (MAE): 99.16514977441257\n",
      "Mean Squared Error (MSE): 83485.20506014343\n"
     ]
    }
   ],
   "source": [
    "# Calculate R2 score\n",
    "r2 = r2_score(y_test, predictions)\n",
    "print(f'R-squared (R2) Score: {r2}')\n",
    "\n",
    "# Calculate Mean Absolute Error (MAE)\n",
    "mae = mean_absolute_error(y_test, predictions)\n",
    "print(f'Mean Absolute Error (MAE): {mae}')\n",
    "\n",
    "# Calculate Mean Squared Error (MSE)\n",
    "mse = mean_squared_error(y_test, predictions)\n",
    "print(f'Mean Squared Error (MSE): {mse}')"
   ]
  },
  {
   "cell_type": "code",
   "execution_count": null,
   "metadata": {},
   "outputs": [],
   "source": []
  }
 ],
 "metadata": {
  "colab": {
   "provenance": []
  },
  "kernelspec": {
   "display_name": "Python 3 (ipykernel)",
   "language": "python",
   "name": "python3"
  },
  "language_info": {
   "codemirror_mode": {
    "name": "ipython",
    "version": 3
   },
   "file_extension": ".py",
   "mimetype": "text/x-python",
   "name": "python",
   "nbconvert_exporter": "python",
   "pygments_lexer": "ipython3",
   "version": "3.10.9"
  }
 },
 "nbformat": 4,
 "nbformat_minor": 1
}
